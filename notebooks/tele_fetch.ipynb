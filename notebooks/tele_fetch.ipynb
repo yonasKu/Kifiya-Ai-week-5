{
 "cells": [
  {
   "cell_type": "markdown",
   "metadata": {},
   "source": []
  },
  {
   "cell_type": "markdown",
   "metadata": {},
   "source": []
  },
  {
   "cell_type": "code",
   "execution_count": 1,
   "metadata": {},
   "outputs": [],
   "source": [
    "# Import necessary libraries\n",
    "import sys\n",
    "import os\n",
    "\n",
    "sys.path.append(os.path.abspath('../scripts'))\n"
   ]
  },
  {
   "cell_type": "code",
   "execution_count": 2,
   "metadata": {},
   "outputs": [
    {
     "name": "stdout",
     "output_type": "stream",
     "text": [
      "Fetching data from https://t.me/chuchushoes...\n"
     ]
    },
    {
     "ename": "NameError",
     "evalue": "name 'types' is not defined",
     "output_type": "error",
     "traceback": [
      "\u001b[1;31m---------------------------------------------------------------------------\u001b[0m",
      "\u001b[1;31mNameError\u001b[0m                                 Traceback (most recent call last)",
      "Cell \u001b[1;32mIn[2], line 67\u001b[0m\n\u001b[0;32m     64\u001b[0m         \u001b[38;5;28;01mawait\u001b[39;00m fetch_all_channels(channels, limit\u001b[38;5;241m=\u001b[39m\u001b[38;5;241m500\u001b[39m)\n\u001b[0;32m     66\u001b[0m \u001b[38;5;66;03m# Instead of client.loop.run_until_complete(main()), just use await main()\u001b[39;00m\n\u001b[1;32m---> 67\u001b[0m \u001b[38;5;28;01mawait\u001b[39;00m main()\n",
      "Cell \u001b[1;32mIn[2], line 64\u001b[0m, in \u001b[0;36mmain\u001b[1;34m()\u001b[0m\n\u001b[0;32m     62\u001b[0m \u001b[38;5;28;01masync\u001b[39;00m \u001b[38;5;28;01mdef\u001b[39;00m \u001b[38;5;21mmain\u001b[39m():\n\u001b[0;32m     63\u001b[0m     \u001b[38;5;28;01masync\u001b[39;00m \u001b[38;5;28;01mwith\u001b[39;00m client:\n\u001b[1;32m---> 64\u001b[0m         \u001b[38;5;28;01mawait\u001b[39;00m fetch_all_channels(channels, limit\u001b[38;5;241m=\u001b[39m\u001b[38;5;241m500\u001b[39m)\n",
      "Cell \u001b[1;32mIn[2], line 49\u001b[0m, in \u001b[0;36mfetch_all_channels\u001b[1;34m(channels, limit)\u001b[0m\n\u001b[0;32m     47\u001b[0m \u001b[38;5;28;01mfor\u001b[39;00m channel \u001b[38;5;129;01min\u001b[39;00m channels:\n\u001b[0;32m     48\u001b[0m     \u001b[38;5;28mprint\u001b[39m(\u001b[38;5;124mf\u001b[39m\u001b[38;5;124m\"\u001b[39m\u001b[38;5;124mFetching data from \u001b[39m\u001b[38;5;132;01m{\u001b[39;00mchannel\u001b[38;5;132;01m}\u001b[39;00m\u001b[38;5;124m...\u001b[39m\u001b[38;5;124m\"\u001b[39m)\n\u001b[1;32m---> 49\u001b[0m     data \u001b[38;5;241m=\u001b[39m \u001b[38;5;28;01mawait\u001b[39;00m fetch_messages(channel, limit)\n\u001b[0;32m     50\u001b[0m     file_name \u001b[38;5;241m=\u001b[39m \u001b[38;5;124mf\u001b[39m\u001b[38;5;124m'\u001b[39m\u001b[38;5;132;01m{\u001b[39;00mchannel\u001b[38;5;241m.\u001b[39msplit(\u001b[38;5;124m\"\u001b[39m\u001b[38;5;124m/\u001b[39m\u001b[38;5;124m\"\u001b[39m)[\u001b[38;5;241m-\u001b[39m\u001b[38;5;241m1\u001b[39m]\u001b[38;5;132;01m}\u001b[39;00m\u001b[38;5;124m_messages.json\u001b[39m\u001b[38;5;124m'\u001b[39m\n\u001b[0;32m     51\u001b[0m     \u001b[38;5;28;01mwith\u001b[39;00m \u001b[38;5;28mopen\u001b[39m(file_name, \u001b[38;5;124m'\u001b[39m\u001b[38;5;124mw\u001b[39m\u001b[38;5;124m'\u001b[39m, encoding\u001b[38;5;241m=\u001b[39m\u001b[38;5;124m'\u001b[39m\u001b[38;5;124mutf-8\u001b[39m\u001b[38;5;124m'\u001b[39m) \u001b[38;5;28;01mas\u001b[39;00m f:\n",
      "Cell \u001b[1;32mIn[2], line 31\u001b[0m, in \u001b[0;36mfetch_messages\u001b[1;34m(channel_link, limit)\u001b[0m\n\u001b[0;32m     28\u001b[0m \u001b[38;5;66;03m# Check if the message contains media\u001b[39;00m\n\u001b[0;32m     29\u001b[0m \u001b[38;5;28;01mif\u001b[39;00m message\u001b[38;5;241m.\u001b[39mmedia:\n\u001b[0;32m     30\u001b[0m     \u001b[38;5;66;03m# Handle different media types\u001b[39;00m\n\u001b[1;32m---> 31\u001b[0m     \u001b[38;5;28;01mif\u001b[39;00m \u001b[38;5;28misinstance\u001b[39m(message\u001b[38;5;241m.\u001b[39mmedia, \u001b[43mtypes\u001b[49m\u001b[38;5;241m.\u001b[39mMessageMediaPhoto):\n\u001b[0;32m     32\u001b[0m         media_file \u001b[38;5;241m=\u001b[39m \u001b[38;5;28;01mawait\u001b[39;00m client\u001b[38;5;241m.\u001b[39mdownload_media(message\u001b[38;5;241m.\u001b[39mmedia, file\u001b[38;5;241m=\u001b[39m\u001b[38;5;124mf\u001b[39m\u001b[38;5;124m\"\u001b[39m\u001b[38;5;124m./media/photo_\u001b[39m\u001b[38;5;132;01m{\u001b[39;00mmessage\u001b[38;5;241m.\u001b[39mid\u001b[38;5;132;01m}\u001b[39;00m\u001b[38;5;124m\"\u001b[39m)\n\u001b[0;32m     33\u001b[0m         message_dict[\u001b[38;5;124m\"\u001b[39m\u001b[38;5;124mmedia\u001b[39m\u001b[38;5;124m\"\u001b[39m] \u001b[38;5;241m=\u001b[39m media_file  \u001b[38;5;66;03m# Save the path to the downloaded photo\u001b[39;00m\n",
      "\u001b[1;31mNameError\u001b[0m: name 'types' is not defined"
     ]
    }
   ],
   "source": [
    "# Import the necessary modules\n",
    "import os\n",
    "from dotenv import load_dotenv\n",
    "from telethon import TelegramClient, types  # Import types for media handling\n",
    "import json\n",
    "\n",
    "# Step 1: Load environment variables from the .env file\n",
    "load_dotenv()\n",
    "\n",
    "# Step 2: Fetch API ID and API Hash from environment variables\n",
    "api_id = os.getenv('TELEGRAM_API_ID')\n",
    "api_hash = os.getenv('TELEGRAM_API_HASH')\n",
    "\n",
    "# Step 3: Initialize the Telegram client (with extended timeout)\n",
    "client = TelegramClient('scraper_session_alt', api_id, api_hash, timeout=60)\n",
    "\n",
    "# Step 4: Define a function to fetch messages from a channel\n",
    "async def fetch_messages(channel_link, limit=100):\n",
    "    messages_data = []\n",
    "\n",
    "    async for message in client.iter_messages(channel_link, limit=limit):\n",
    "        message_dict = {\n",
    "            \"sender\": message.sender_id,\n",
    "            \"timestamp\": message.date.isoformat(),\n",
    "            \"content\": message.message,\n",
    "            \"media\": None  # Initialize with None, updated later if media exists\n",
    "        }\n",
    "        \n",
    "        # Check if the message contains media\n",
    "        if message.media:\n",
    "            # Handle different media types\n",
    "            if isinstance(message.media, types.MessageMediaPhoto):\n",
    "                media_file = await client.download_media(message.media, file=f\"./media/photo_{message.id}\")\n",
    "                message_dict[\"media\"] = media_file  # Save the path to the downloaded photo\n",
    "            elif isinstance(message.media, types.MessageMediaDocument):\n",
    "                media_file = await client.download_media(message.media, file=f\"./media/doc_{message.id}\")\n",
    "                message_dict[\"media\"] = media_file  # Save the path to the downloaded document\n",
    "            elif isinstance(message.media, types.MessageMediaWebPage):\n",
    "                # Handle web pages or other media types differently if needed\n",
    "                message_dict[\"media\"] = f\"Web page URL: {message.media.webpage.url}\" if message.media.webpage else \"Unknown webpage\"\n",
    "\n",
    "        messages_data.append(message_dict)\n",
    "\n",
    "    return messages_data\n",
    "\n",
    "# Step 5: Define a function to fetch data from multiple channels\n",
    "async def fetch_all_channels(channels, limit=100):\n",
    "    for channel in channels:\n",
    "        print(f\"Fetching data from {channel}...\")\n",
    "        data = await fetch_messages(channel, limit)\n",
    "        file_name = f'{channel.split(\"/\")[-1]}_messages.json'\n",
    "        with open(file_name, 'w', encoding='utf-8') as f:\n",
    "            json.dump(data, f, ensure_ascii=False, indent=4)\n",
    "        print(f\"Saved {len(data)} messages from {channel} to {file_name}\")\n",
    "\n",
    "# Step 6: List the Telegram channels you want to scrape\n",
    "channels = [\n",
    "    'https://t.me/chuchushoes'\n",
    "]\n",
    "\n",
    "# Step 7: Use await directly in Jupyter notebook\n",
    "async def main():\n",
    "    async with client:\n",
    "        await fetch_all_channels(channels, limit=500)\n",
    "\n",
    "# Instead of client.loop.run_until_complete(main()), just use await main()\n",
    "await main()\n"
   ]
  },
  {
   "cell_type": "code",
   "execution_count": 10,
   "metadata": {},
   "outputs": [],
   "source": [
    "import os\n",
    "\n",
    "if not os.path.exists('processed_messages.json'):\n",
    "    with open('processed_messages.json', 'w') as f:\n",
    "        f.write('')  # Create an empty file if i"
   ]
  },
  {
   "cell_type": "code",
   "execution_count": null,
   "metadata": {},
   "outputs": [],
   "source": [
    "# Import necessary libraries\n",
    "import nest_asyncio\n",
    "import asyncio\n",
    "\n",
    "# Apply nest_asyncio to allow nested event loops\n",
    "nest_asyncio.apply()\n",
    "\n",
    "# Import your TelegramScraper class and run_scraper function\n",
    "from tele_fetch import TelegramScraper, run_scraper  # Ensure tele_fetch.py is in the same directory or provide the correct path\n",
    "\n",
    "# Define a function to run the scraper with timeout\n",
    "async def main():\n",
    "    await run_scraper(channel='https://t.me/chuchushoes', timeout=600)  # Run the scraper for 10 minutes\n",
    "\n",
    "# Run the main function in the Jupyter Notebook\n",
    "await main()\n",
    "\n",
    "\n"
   ]
  },
  {
   "cell_type": "code",
   "execution_count": null,
   "metadata": {},
   "outputs": [],
   "source": []
  },
  {
   "cell_type": "code",
   "execution_count": null,
   "metadata": {},
   "outputs": [],
   "source": [
    "import pandas as pd\n",
    "\n",
    "# Load the processed messages from the JSON file\n",
    "data = pd.read_json('processed_messages.json', lines=True)\n",
    "\n",
    "# Display the first few rows of the data\n",
    "data.head()\n"
   ]
  },
  {
   "cell_type": "code",
   "execution_count": null,
   "metadata": {},
   "outputs": [],
   "source": []
  }
 ],
 "metadata": {
  "kernelspec": {
   "display_name": "myvenv",
   "language": "python",
   "name": "python3"
  },
  "language_info": {
   "codemirror_mode": {
    "name": "ipython",
    "version": 3
   },
   "file_extension": ".py",
   "mimetype": "text/x-python",
   "name": "python",
   "nbconvert_exporter": "python",
   "pygments_lexer": "ipython3",
   "version": "3.12.3"
  }
 },
 "nbformat": 4,
 "nbformat_minor": 2
}
